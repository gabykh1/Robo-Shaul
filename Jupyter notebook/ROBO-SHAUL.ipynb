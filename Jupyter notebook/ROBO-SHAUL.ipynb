{
 "cells": [
  {
   "cell_type": "markdown",
   "id": "6358c841",
   "metadata": {},
   "source": [
    "<img src=\"robo_intro.png\", style=\"hight:50px\">"
   ]
  },
  {
   "cell_type": "code",
   "execution_count": 1,
   "id": "d907eecd",
   "metadata": {},
   "outputs": [],
   "source": [
    "import pandas as pd\n",
    "import webbrowser"
   ]
  },
  {
   "cell_type": "code",
   "execution_count": 2,
   "id": "ba0a3267",
   "metadata": {},
   "outputs": [],
   "source": [
    "# opening the excel file\n",
    "metadata = pd.read_excel(r'metadata.xlsx')"
   ]
  },
  {
   "cell_type": "markdown",
   "id": "c3269266",
   "metadata": {},
   "source": [
    "creating file for transliteration"
   ]
  },
  {
   "cell_type": "code",
   "execution_count": 5,
   "id": "50889df3",
   "metadata": {},
   "outputs": [],
   "source": [
    "# this code will split the sentence from the excel, clean it and then will make a file for transliteration\n",
    "\n",
    "# creating a file\n",
    "file = open(\"for transliteration.txt\", \"w\")\n",
    "\n",
    "# loop that select the right sentence each time    \n",
    "for row in metadata['col_a']:\n",
    "    if row.count('|') == 1:\n",
    "        ID, sentence = row.split('|')\n",
    "\n",
    "    else:\n",
    "        ID, sentence1, sentence2 = row.split('|') # the left cells are with 2 delimeters\n",
    "        if len(sentence1) > len(sentence2): sentence = sentence1\n",
    "        else: sentence = sentence1\n",
    "            \n",
    "        # adding sentences for the file    \n",
    "        # removing dots into periods  \n",
    "        \n",
    "    file.write((sentence.replace('?', '')\n",
    "                .replace(',', '')\n",
    "                .replace('.', '')\n",
    "                .replace(\"'\", \"\")\n",
    "                .replace('\"', '')\n",
    "                .replace('-', '')\n",
    "                .replace('…', '') + '.') + '\\n')\n",
    "\n",
    "file.close()"
   ]
  },
  {
   "cell_type": "markdown",
   "id": "94c21e63",
   "metadata": {},
   "source": [
    "translating the sentences"
   ]
  },
  {
   "cell_type": "code",
   "execution_count": 6,
   "id": "c120f4d7",
   "metadata": {},
   "outputs": [
    {
     "data": {
      "text/plain": [
       "True"
      ]
     },
     "execution_count": 6,
     "metadata": {},
     "output_type": "execute_result"
    }
   ],
   "source": [
    "# this code will open a website that will transliterate \"for transliteration.txt\" file\n",
    "\n",
    "#open the website\n",
    "url = \"https://hebrewtransliteration.app/#\"\n",
    "webbrowser.open(url)\n",
    "\n",
    "# paste the whole sentences and than copy them to a new text file named \"transliterated sentences.txt\""
   ]
  },
  {
   "cell_type": "code",
   "execution_count": 16,
   "id": "188eef1f",
   "metadata": {},
   "outputs": [
    {
     "data": {
      "text/plain": [
       "2986"
      ]
     },
     "execution_count": 16,
     "metadata": {},
     "output_type": "execute_result"
    }
   ],
   "source": [
    "#creating a list of id - a help function for the final file\n",
    "id_list = []\n",
    "for row in metadata['col_a']:\n",
    "    cell = row.split('|')\n",
    "    id_list.append(cell[0])\n",
    "len(id_list)"
   ]
  },
  {
   "cell_type": "markdown",
   "id": "f0c41b8f",
   "metadata": {},
   "source": [
    "cerating a text file for the tts"
   ]
  },
  {
   "cell_type": "code",
   "execution_count": 17,
   "id": "ad0ad23c",
   "metadata": {},
   "outputs": [],
   "source": [
    "# this code will open the 'transliterated sentences.txt' file and will ctreate a file to the tts using the sentnces\n",
    "\n",
    "#opening the transliterated file and create a list\n",
    "transliterated_file = open('transliterated sentences.txt', encoding=\"utf8\")\n",
    "transliterated_sentences = transliterated_file.read().split('\\n') # creating a list to iterate simultaneously\n",
    "\n",
    "\n",
    "#opening a new file name 'list.txt' to write the final text in it\n",
    "final_text_file = open('list.txt', 'w', encoding=\"utf-8\")\n",
    "\n",
    "\n",
    "# creating a list of id\n",
    "for id, sentence in zip(id_list, transliterated_sentences):\n",
    "    final_text_file.write('/content/TTS-TT2/wavs/{id_num}.wav|{transliteration}\\n'.format(id_num = id, transliteration = sentence))\n",
    "\n",
    "#closing the files\n",
    "\n",
    "final_text_file.close()\n",
    "transliterated_file.close()"
   ]
  }
 ],
 "metadata": {
  "kernelspec": {
   "display_name": "Python 3 (ipykernel)",
   "language": "python",
   "name": "python3"
  },
  "language_info": {
   "codemirror_mode": {
    "name": "ipython",
    "version": 3
   },
   "file_extension": ".py",
   "mimetype": "text/x-python",
   "name": "python",
   "nbconvert_exporter": "python",
   "pygments_lexer": "ipython3",
   "version": "3.8.5"
  }
 },
 "nbformat": 4,
 "nbformat_minor": 5
}
